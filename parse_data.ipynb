{
 "cells": [
  {
   "cell_type": "code",
   "execution_count": 54,
   "metadata": {},
   "outputs": [],
   "source": [
    "import os \n",
    "import pandas as pd\n",
    "from bs4 import BeautifulSoup\n",
    "import warnings"
   ]
  },
  {
   "cell_type": "code",
   "execution_count": 55,
   "metadata": {},
   "outputs": [],
   "source": [
    "warnings.simplefilter(action='ignore', category=FutureWarning)"
   ]
  },
  {
   "cell_type": "code",
   "execution_count": 29,
   "metadata": {},
   "outputs": [],
   "source": [
    "SCORE_DIR = 'data/scores'"
   ]
  },
  {
   "cell_type": "code",
   "execution_count": 30,
   "metadata": {},
   "outputs": [],
   "source": [
    "box_scores = os.listdir(SCORE_DIR)"
   ]
  },
  {
   "cell_type": "code",
   "execution_count": 31,
   "metadata": {},
   "outputs": [],
   "source": [
    "box_scores = [os.path.join(SCORE_DIR, f) for f in box_scores if f.endswith('.html')]"
   ]
  },
  {
   "cell_type": "code",
   "execution_count": 39,
   "metadata": {},
   "outputs": [],
   "source": [
    "def parse_html(box_score):\n",
    "    with open(box_score) as f:\n",
    "        html = f.read()\n",
    "    \n",
    "    soup = BeautifulSoup(html)\n",
    "\n",
    "    [s.decompose for s in soup.select('tr.over_header')]\n",
    "    [s.decompose for s in soup.select('tr.thead')]\n",
    "\n",
    "    return soup"
   ]
  },
  {
   "cell_type": "code",
   "execution_count": 40,
   "metadata": {},
   "outputs": [],
   "source": [
    "def read_line_score(soup):\n",
    "    line_score = pd.read_html(str(soup), attrs={'id':'line_score'})[0]\n",
    "\n",
    "    cols = list(line_score.columns)\n",
    "    cols[0] = 'team'\n",
    "    cols[-1] = 'total'\n",
    "    line_score.columns = cols\n",
    "\n",
    "    line_score = line_score[['team', 'total']]\n",
    "\n",
    "    return line_score"
   ]
  },
  {
   "cell_type": "code",
   "execution_count": 50,
   "metadata": {},
   "outputs": [],
   "source": [
    "def read_stats(soup, team, stat):\n",
    "    df = pd.read_html(str(soup), attrs={'id': f'box-{team}-game-{stat}'}, index_col=0)[0]\n",
    "    df = df.apply(pd.to_numeric, errors='coerce')\n",
    "    df.drop('Reserves', inplace=True)\n",
    "\n",
    "    return df"
   ]
  },
  {
   "cell_type": "code",
   "execution_count": 243,
   "metadata": {},
   "outputs": [],
   "source": [
    "def read_season_info(soup):\n",
    "    nav = soup.select('#bottom_nav_container')[0]\n",
    "    hrefs = [a['href'] for a in nav.find_all('a')]\n",
    "    season = os.path.basename(hrefs[1]).split('_')[0]\n",
    "\n",
    "    return season"
   ]
  },
  {
   "cell_type": "code",
   "execution_count": 251,
   "metadata": {},
   "outputs": [
    {
     "name": "stdout",
     "output_type": "stream",
     "text": [
      "100 / 11520\n",
      "200 / 11520\n",
      "300 / 11520\n",
      "400 / 11520\n",
      "500 / 11520\n",
      "600 / 11520\n",
      "700 / 11520\n",
      "800 / 11520\n",
      "900 / 11520\n",
      "1000 / 11520\n",
      "1100 / 11520\n",
      "1200 / 11520\n",
      "1300 / 11520\n",
      "1400 / 11520\n",
      "1500 / 11520\n",
      "1600 / 11520\n",
      "1700 / 11520\n",
      "1800 / 11520\n",
      "1900 / 11520\n",
      "2000 / 11520\n",
      "2100 / 11520\n",
      "2200 / 11520\n",
      "2300 / 11520\n",
      "2400 / 11520\n",
      "2500 / 11520\n",
      "2600 / 11520\n",
      "2700 / 11520\n",
      "2800 / 11520\n",
      "2900 / 11520\n",
      "3000 / 11520\n",
      "3100 / 11520\n",
      "3200 / 11520\n",
      "3300 / 11520\n",
      "3400 / 11520\n",
      "3500 / 11520\n",
      "3600 / 11520\n",
      "3700 / 11520\n",
      "3800 / 11520\n",
      "3900 / 11520\n",
      "4000 / 11520\n",
      "4100 / 11520\n",
      "4200 / 11520\n",
      "4300 / 11520\n",
      "4400 / 11520\n",
      "4500 / 11520\n",
      "4600 / 11520\n",
      "4700 / 11520\n",
      "4800 / 11520\n",
      "4900 / 11520\n",
      "5000 / 11520\n",
      "5100 / 11520\n",
      "5200 / 11520\n",
      "5300 / 11520\n",
      "5400 / 11520\n",
      "5500 / 11520\n",
      "5600 / 11520\n",
      "5700 / 11520\n",
      "5800 / 11520\n",
      "5900 / 11520\n",
      "6000 / 11520\n",
      "6100 / 11520\n",
      "6200 / 11520\n",
      "6300 / 11520\n",
      "6400 / 11520\n",
      "6500 / 11520\n",
      "6600 / 11520\n",
      "6700 / 11520\n",
      "6800 / 11520\n",
      "6900 / 11520\n",
      "7000 / 11520\n",
      "7100 / 11520\n",
      "7200 / 11520\n",
      "7300 / 11520\n",
      "7400 / 11520\n",
      "7500 / 11520\n",
      "7600 / 11520\n",
      "7700 / 11520\n",
      "7800 / 11520\n",
      "7900 / 11520\n",
      "8000 / 11520\n",
      "8100 / 11520\n",
      "8200 / 11520\n",
      "8300 / 11520\n",
      "8400 / 11520\n",
      "8500 / 11520\n",
      "8600 / 11520\n",
      "8700 / 11520\n",
      "8800 / 11520\n",
      "8900 / 11520\n",
      "9000 / 11520\n",
      "9100 / 11520\n",
      "9200 / 11520\n",
      "9300 / 11520\n",
      "9400 / 11520\n",
      "9500 / 11520\n",
      "9600 / 11520\n",
      "9700 / 11520\n",
      "9800 / 11520\n",
      "9900 / 11520\n",
      "10000 / 11520\n",
      "10100 / 11520\n",
      "10200 / 11520\n",
      "10300 / 11520\n",
      "10400 / 11520\n",
      "10500 / 11520\n",
      "10600 / 11520\n",
      "10700 / 11520\n",
      "10800 / 11520\n",
      "10900 / 11520\n",
      "11000 / 11520\n",
      "11100 / 11520\n",
      "11200 / 11520\n",
      "11300 / 11520\n",
      "11400 / 11520\n",
      "11500 / 11520\n"
     ]
    }
   ],
   "source": [
    "base_cols = None\n",
    "games = []\n",
    "\n",
    "for box_score in box_scores:\n",
    "    soup = parse_html(box_score)\n",
    "    line_score = read_line_score(soup)\n",
    "    teams = list(line_score['team'])\n",
    "\n",
    "    summaries = []\n",
    "    for team in teams:\n",
    "        basic = read_stats(soup, team, 'basic')\n",
    "        advanced = read_stats(soup, team, 'advanced')\n",
    "\n",
    "        totals = pd.concat([basic.iloc[-1,:], advanced.iloc[-1,:]])\n",
    "        totals = totals.reset_index().drop(['level_0'], axis=1).set_index('Starters')\n",
    "        totals.index = totals.index.str.lower()\n",
    "\n",
    "        maxes = pd.concat([basic.iloc[:-1,:].max(), advanced.iloc[:-1,:].max()])\n",
    "        maxes = maxes.reset_index().drop(['level_0'], axis=1).set_index('Starters')\n",
    "        maxes.index = maxes.index.str.lower() + '_max'\n",
    "\n",
    "        summary = pd.concat([totals, maxes])\n",
    "        summary['Team Totals'][37:] = summary[0][37:]\n",
    "        summary.drop(0, axis=1, inplace=True)\n",
    "\n",
    "        if base_cols is None:\n",
    "            base_cols = list(summary.index.drop_duplicates(keep='first'))\n",
    "            base_cols = [b for b in base_cols if 'bpm' not in b]\n",
    "\n",
    "        summary.columns = [teams.index(team)]\n",
    "        summary = summary.loc[base_cols]\n",
    "\n",
    "        summaries.append(summary)\n",
    "\n",
    "    summary = pd.concat(summaries, axis=1).T\n",
    "\n",
    "    game = pd.concat([summary, line_score], axis=1)\n",
    "\n",
    "    game['home'] = [0,1]\n",
    "    game_opp = game.iloc[::-1].reset_index()\n",
    "\n",
    "    game_opp.columns += '_opp'\n",
    "\n",
    "    full_game = pd.concat([game, game_opp], axis=1)\n",
    "    full_game['season'] = read_season_info(soup)\n",
    "\n",
    "    full_game['date'] = os.path.basename(box_score)[:8]\n",
    "    full_game['date'] = pd.to_datetime(full_game['date'], format='%Y%m%d')\n",
    "\n",
    "    full_game['won'] = full_game['total'] > full_game['total_opp']\n",
    "\n",
    "    games.append(full_game)\n",
    "\n",
    "    if len(games) %  100 == 0:\n",
    "        print(f'{len(games)} / {len(box_scores)}')"
   ]
  },
  {
   "cell_type": "code",
   "execution_count": 257,
   "metadata": {},
   "outputs": [],
   "source": [
    "pd.set_option('display.max_columns', None)"
   ]
  },
  {
   "cell_type": "code",
   "execution_count": 267,
   "metadata": {},
   "outputs": [],
   "source": [
    "games_df = pd.concat(games, ignore_index=True)"
   ]
  },
  {
   "cell_type": "code",
   "execution_count": 269,
   "metadata": {},
   "outputs": [],
   "source": [
    "games_df.to_csv('nba_games.csv')"
   ]
  }
 ],
 "metadata": {
  "kernelspec": {
   "display_name": "base",
   "language": "python",
   "name": "python3"
  },
  "language_info": {
   "codemirror_mode": {
    "name": "ipython",
    "version": 3
   },
   "file_extension": ".py",
   "mimetype": "text/x-python",
   "name": "python",
   "nbconvert_exporter": "python",
   "pygments_lexer": "ipython3",
   "version": "3.11.7"
  }
 },
 "nbformat": 4,
 "nbformat_minor": 2
}
